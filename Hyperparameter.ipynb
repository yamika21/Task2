{
 "cells": [
  {
   "cell_type": "markdown",
   "metadata": {},
   "source": [
    "Hyperparameter Tuning with GridSearchCV or RandomizedSearchCV:\n",
    "Step 1: Import Libraries"
   ]
  },
  {
   "cell_type": "code",
   "execution_count": 1,
   "metadata": {},
   "outputs": [],
   "source": [
    "import pandas as pd\n",
    "import numpy as np\n",
    "from sklearn.model_selection import train_test_split, GridSearchCV, RandomizedSearchCV\n",
    "from sklearn.ensemble import RandomForestClassifier\n",
    "from sklearn.svm import SVC\n",
    "from sklearn.metrics import accuracy_score, classification_report\n",
    "from sklearn.preprocessing import StandardScaler\n"
   ]
  },
  {
   "cell_type": "markdown",
   "metadata": {},
   "source": [
    "Step 2: Load and Preprocess the Dataset"
   ]
  },
  {
   "cell_type": "code",
   "execution_count": 2,
   "metadata": {},
   "outputs": [],
   "source": [
    "# Load the dataset\n",
    "df = pd.read_csv('heart.csv')\n",
    "\n",
    "# Handle missing values (if any)\n",
    "df.fillna(df.median(), inplace=True)\n",
    "\n",
    "# Encode categorical variables (if any)\n",
    "df = pd.get_dummies(df, drop_first=True)\n",
    "\n",
    "# Feature scaling (standardization)\n",
    "scaler = StandardScaler()\n",
    "scaled_data = scaler.fit_transform(df.drop('target', axis=1))\n",
    "\n",
    "# Convert scaled data back to DataFrame\n",
    "df_scaled = pd.DataFrame(scaled_data, columns=df.drop('target', axis=1).columns)\n",
    "df_scaled['target'] = df['target']\n"
   ]
  },
  {
   "cell_type": "markdown",
   "metadata": {},
   "source": [
    "Step 3: Split the Data into Training and Test Sets"
   ]
  },
  {
   "cell_type": "code",
   "execution_count": 3,
   "metadata": {},
   "outputs": [],
   "source": [
    "X = df_scaled.drop('target', axis=1)\n",
    "y = df_scaled['target']\n",
    "\n",
    "# Split the data into training and test sets (80% training, 20% testing)\n",
    "X_train, X_test, y_train, y_test = train_test_split(X, y, test_size=0.2, random_state=42)\n"
   ]
  },
  {
   "cell_type": "markdown",
   "metadata": {},
   "source": [
    "Step 4: Train a Model (Random Forest or SVM)\n",
    "Random Forest Classifier"
   ]
  },
  {
   "cell_type": "code",
   "execution_count": 4,
   "metadata": {},
   "outputs": [
    {
     "name": "stdout",
     "output_type": "stream",
     "text": [
      "Accuracy of Random Forest (before tuning): 0.99\n",
      "              precision    recall  f1-score   support\n",
      "\n",
      "           0       0.97      1.00      0.99       102\n",
      "           1       1.00      0.97      0.99       103\n",
      "\n",
      "    accuracy                           0.99       205\n",
      "   macro avg       0.99      0.99      0.99       205\n",
      "weighted avg       0.99      0.99      0.99       205\n",
      "\n"
     ]
    }
   ],
   "source": [
    "# Initialize Random Forest model\n",
    "rf_model = RandomForestClassifier(random_state=42)\n",
    "\n",
    "# Train the model\n",
    "rf_model.fit(X_train, y_train)\n",
    "\n",
    "# Predict on the test set\n",
    "y_pred_rf = rf_model.predict(X_test)\n",
    "\n",
    "# Evaluate the model\n",
    "accuracy_rf = accuracy_score(y_test, y_pred_rf)\n",
    "print(f\"Accuracy of Random Forest (before tuning): {accuracy_rf:.2f}\")\n",
    "print(classification_report(y_test, y_pred_rf))\n"
   ]
  },
  {
   "cell_type": "markdown",
   "metadata": {},
   "source": [
    "Support Vector Machine (SVM)"
   ]
  },
  {
   "cell_type": "code",
   "execution_count": 5,
   "metadata": {},
   "outputs": [
    {
     "name": "stdout",
     "output_type": "stream",
     "text": [
      "Accuracy of SVM (before tuning): 0.89\n",
      "              precision    recall  f1-score   support\n",
      "\n",
      "           0       0.93      0.83      0.88       102\n",
      "           1       0.85      0.94      0.89       103\n",
      "\n",
      "    accuracy                           0.89       205\n",
      "   macro avg       0.89      0.89      0.89       205\n",
      "weighted avg       0.89      0.89      0.89       205\n",
      "\n"
     ]
    }
   ],
   "source": [
    "# Initialize SVM model\n",
    "svm_model = SVC(random_state=42)\n",
    "\n",
    "# Train the model\n",
    "svm_model.fit(X_train, y_train)\n",
    "\n",
    "# Predict on the test set\n",
    "y_pred_svm = svm_model.predict(X_test)\n",
    "\n",
    "# Evaluate the model\n",
    "accuracy_svm = accuracy_score(y_test, y_pred_svm)\n",
    "print(f\"Accuracy of SVM (before tuning): {accuracy_svm:.2f}\")\n",
    "print(classification_report(y_test, y_pred_svm))\n"
   ]
  },
  {
   "cell_type": "markdown",
   "metadata": {},
   "source": [
    "Step 5: Hyperparameter Tuning with GridSearchCV\n",
    "Random Forest Hyperparameter Tuning with GridSearchCV"
   ]
  },
  {
   "cell_type": "code",
   "execution_count": 6,
   "metadata": {},
   "outputs": [
    {
     "name": "stdout",
     "output_type": "stream",
     "text": [
      "Fitting 5 folds for each of 144 candidates, totalling 720 fits\n",
      "Accuracy of Random Forest (after tuning): 0.99\n",
      "              precision    recall  f1-score   support\n",
      "\n",
      "           0       0.97      1.00      0.99       102\n",
      "           1       1.00      0.97      0.99       103\n",
      "\n",
      "    accuracy                           0.99       205\n",
      "   macro avg       0.99      0.99      0.99       205\n",
      "weighted avg       0.99      0.99      0.99       205\n",
      "\n"
     ]
    }
   ],
   "source": [
    "# Define hyperparameter grid for Random Forest\n",
    "rf_param_grid = {\n",
    "    'n_estimators': [50, 100, 150, 200],\n",
    "    'max_depth': [None, 10, 20, 30],\n",
    "    'min_samples_split': [2, 5, 10],\n",
    "    'min_samples_leaf': [1, 2, 4]\n",
    "}\n",
    "\n",
    "# Initialize GridSearchCV for Random Forest\n",
    "grid_search_rf = GridSearchCV(estimator=RandomForestClassifier(random_state=42), \n",
    "                              param_grid=rf_param_grid, \n",
    "                              cv=5, \n",
    "                              n_jobs=-1, \n",
    "                              verbose=2)\n",
    "\n",
    "# Fit GridSearchCV\n",
    "grid_search_rf.fit(X_train, y_train)\n",
    "\n",
    "# Get the best parameters and the best model\n",
    "best_rf_model = grid_search_rf.best_estimator_\n",
    "\n",
    "# Predict with the best model\n",
    "y_pred_rf_tuned = best_rf_model.predict(X_test)\n",
    "\n",
    "# Evaluate the tuned model\n",
    "accuracy_rf_tuned = accuracy_score(y_test, y_pred_rf_tuned)\n",
    "print(f\"Accuracy of Random Forest (after tuning): {accuracy_rf_tuned:.2f}\")\n",
    "print(classification_report(y_test, y_pred_rf_tuned))\n"
   ]
  },
  {
   "cell_type": "markdown",
   "metadata": {},
   "source": [
    "SVM Hyperparameter Tuning with GridSearchCV"
   ]
  },
  {
   "cell_type": "code",
   "execution_count": 7,
   "metadata": {},
   "outputs": [
    {
     "name": "stdout",
     "output_type": "stream",
     "text": [
      "Fitting 5 folds for each of 12 candidates, totalling 60 fits\n",
      "Accuracy of SVM (after tuning): 0.98\n",
      "              precision    recall  f1-score   support\n",
      "\n",
      "           0       0.97      0.98      0.98       102\n",
      "           1       0.98      0.97      0.98       103\n",
      "\n",
      "    accuracy                           0.98       205\n",
      "   macro avg       0.98      0.98      0.98       205\n",
      "weighted avg       0.98      0.98      0.98       205\n",
      "\n"
     ]
    }
   ],
   "source": [
    "# Define hyperparameter grid for SVM\n",
    "svm_param_grid = {\n",
    "    'C': [0.1, 1, 10],\n",
    "    'kernel': ['linear', 'rbf'],\n",
    "    'gamma': ['scale', 'auto']\n",
    "}\n",
    "\n",
    "# Initialize GridSearchCV for SVM\n",
    "grid_search_svm = GridSearchCV(estimator=SVC(random_state=42), \n",
    "                               param_grid=svm_param_grid, \n",
    "                               cv=5, \n",
    "                               n_jobs=-1, \n",
    "                               verbose=2)\n",
    "\n",
    "# Fit GridSearchCV\n",
    "grid_search_svm.fit(X_train, y_train)\n",
    "\n",
    "# Get the best parameters and the best model\n",
    "best_svm_model = grid_search_svm.best_estimator_\n",
    "\n",
    "# Predict with the best model\n",
    "y_pred_svm_tuned = best_svm_model.predict(X_test)\n",
    "\n",
    "# Evaluate the tuned model\n",
    "accuracy_svm_tuned = accuracy_score(y_test, y_pred_svm_tuned)\n",
    "print(f\"Accuracy of SVM (after tuning): {accuracy_svm_tuned:.2f}\")\n",
    "print(classification_report(y_test, y_pred_svm_tuned))\n"
   ]
  },
  {
   "cell_type": "markdown",
   "metadata": {},
   "source": [
    "Step 6: Hyperparameter Tuning with RandomizedSearchCV (Alternative)\n",
    "Random Forest with RandomizedSearchCV"
   ]
  },
  {
   "cell_type": "code",
   "execution_count": 8,
   "metadata": {},
   "outputs": [
    {
     "name": "stdout",
     "output_type": "stream",
     "text": [
      "Fitting 5 folds for each of 10 candidates, totalling 50 fits\n",
      "Accuracy of Random Forest (after RandomizedSearchCV): 0.99\n",
      "              precision    recall  f1-score   support\n",
      "\n",
      "           0       0.97      1.00      0.99       102\n",
      "           1       1.00      0.97      0.99       103\n",
      "\n",
      "    accuracy                           0.99       205\n",
      "   macro avg       0.99      0.99      0.99       205\n",
      "weighted avg       0.99      0.99      0.99       205\n",
      "\n"
     ]
    }
   ],
   "source": [
    "from sklearn.model_selection import RandomizedSearchCV\n",
    "\n",
    "# Define hyperparameter distribution for Random Forest\n",
    "rf_param_dist = {\n",
    "    'n_estimators': [50, 100, 150, 200],\n",
    "    'max_depth': [None, 10, 20, 30],\n",
    "    'min_samples_split': [2, 5, 10],\n",
    "    'min_samples_leaf': [1, 2, 4]\n",
    "}\n",
    "\n",
    "# Initialize RandomizedSearchCV for Random Forest\n",
    "random_search_rf = RandomizedSearchCV(estimator=RandomForestClassifier(random_state=42), \n",
    "                                      param_distributions=rf_param_dist, \n",
    "                                      n_iter=10, \n",
    "                                      cv=5, \n",
    "                                      n_jobs=-1, \n",
    "                                      verbose=2)\n",
    "\n",
    "# Fit RandomizedSearchCV\n",
    "random_search_rf.fit(X_train, y_train)\n",
    "\n",
    "# Get the best parameters and the best model\n",
    "best_rf_model_random = random_search_rf.best_estimator_\n",
    "\n",
    "# Predict with the best model\n",
    "y_pred_rf_random = best_rf_model_random.predict(X_test)\n",
    "\n",
    "# Evaluate the tuned model\n",
    "accuracy_rf_random = accuracy_score(y_test, y_pred_rf_random)\n",
    "print(f\"Accuracy of Random Forest (after RandomizedSearchCV): {accuracy_rf_random:.2f}\")\n",
    "print(classification_report(y_test, y_pred_rf_random))\n"
   ]
  },
  {
   "cell_type": "markdown",
   "metadata": {},
   "source": [
    "SVM with RandomizedSearchCV"
   ]
  },
  {
   "cell_type": "code",
   "execution_count": 9,
   "metadata": {},
   "outputs": [
    {
     "name": "stdout",
     "output_type": "stream",
     "text": [
      "Fitting 5 folds for each of 10 candidates, totalling 50 fits\n",
      "Accuracy of SVM (after RandomizedSearchCV): 0.98\n",
      "              precision    recall  f1-score   support\n",
      "\n",
      "           0       0.97      0.98      0.98       102\n",
      "           1       0.98      0.97      0.98       103\n",
      "\n",
      "    accuracy                           0.98       205\n",
      "   macro avg       0.98      0.98      0.98       205\n",
      "weighted avg       0.98      0.98      0.98       205\n",
      "\n"
     ]
    }
   ],
   "source": [
    "# Define hyperparameter distribution for SVM\n",
    "svm_param_dist = {\n",
    "    'C': [0.1, 1, 10],\n",
    "    'kernel': ['linear', 'rbf'],\n",
    "    'gamma': ['scale', 'auto']\n",
    "}\n",
    "\n",
    "# Initialize RandomizedSearchCV for SVM\n",
    "random_search_svm = RandomizedSearchCV(estimator=SVC(random_state=42), \n",
    "                                       param_distributions=svm_param_dist, \n",
    "                                       n_iter=10, \n",
    "                                       cv=5, \n",
    "                                       n_jobs=-1, \n",
    "                                       verbose=2)\n",
    "\n",
    "# Fit RandomizedSearchCV\n",
    "random_search_svm.fit(X_train, y_train)\n",
    "\n",
    "# Get the best parameters and the best model\n",
    "best_svm_model_random = random_search_svm.best_estimator_\n",
    "\n",
    "# Predict with the best model\n",
    "y_pred_svm_random = best_svm_model_random.predict(X_test)\n",
    "\n",
    "# Evaluate the tuned model\n",
    "accuracy_svm_random = accuracy_score(y_test, y_pred_svm_random)\n",
    "print(f\"Accuracy of SVM (after RandomizedSearchCV): {accuracy_svm_random:.2f}\")\n",
    "print(classification_report(y_test, y_pred_svm_random))\n"
   ]
  },
  {
   "cell_type": "markdown",
   "metadata": {},
   "source": [
    "Step 7: Compare Performance\n",
    "Comparison of Accuracy:"
   ]
  },
  {
   "cell_type": "code",
   "execution_count": 10,
   "metadata": {},
   "outputs": [
    {
     "name": "stdout",
     "output_type": "stream",
     "text": [
      "Accuracy of Random Forest (before tuning): 0.99\n",
      "Accuracy of Random Forest (after tuning): 0.99\n",
      "Accuracy of Random Forest (after RandomizedSearchCV): 0.99\n",
      "Accuracy of SVM (before tuning): 0.89\n",
      "Accuracy of SVM (after tuning): 0.98\n",
      "Accuracy of SVM (after RandomizedSearchCV): 0.98\n"
     ]
    }
   ],
   "source": [
    "print(f\"Accuracy of Random Forest (before tuning): {accuracy_rf:.2f}\")\n",
    "print(f\"Accuracy of Random Forest (after tuning): {accuracy_rf_tuned:.2f}\")\n",
    "print(f\"Accuracy of Random Forest (after RandomizedSearchCV): {accuracy_rf_random:.2f}\")\n",
    "\n",
    "print(f\"Accuracy of SVM (before tuning): {accuracy_svm:.2f}\")\n",
    "print(f\"Accuracy of SVM (after tuning): {accuracy_svm_tuned:.2f}\")\n",
    "print(f\"Accuracy of SVM (after RandomizedSearchCV): {accuracy_svm_random:.2f}\")\n"
   ]
  },
  {
   "cell_type": "markdown",
   "metadata": {},
   "source": []
  }
 ],
 "metadata": {
  "kernelspec": {
   "display_name": "Python 3",
   "language": "python",
   "name": "python3"
  },
  "language_info": {
   "codemirror_mode": {
    "name": "ipython",
    "version": 3
   },
   "file_extension": ".py",
   "mimetype": "text/x-python",
   "name": "python",
   "nbconvert_exporter": "python",
   "pygments_lexer": "ipython3",
   "version": "3.11.5"
  }
 },
 "nbformat": 4,
 "nbformat_minor": 2
}
